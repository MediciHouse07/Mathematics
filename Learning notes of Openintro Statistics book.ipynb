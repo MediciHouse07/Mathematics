{
 "cells": [
  {
   "cell_type": "markdown",
   "id": "cd2db6b5",
   "metadata": {},
   "source": [
    "# Preface\n",
    "No matter what knowledge you have learned, if you don't use it, you would forget everything of it. So I decide just use this notebook to review the statistical knowledge that I ever learned.(Hope I can keep doing this, you know, sometimes people quit...)<br>\n",
    "Basically I would try to solve exercise in each chapter of the statistical book I read\n",
    "\n",
    "Book is the famous open book \"Openintro statistics\", if neccessary I would try to solve the problem in other books"
   ]
  },
  {
   "cell_type": "markdown",
   "id": "f48b1b21",
   "metadata": {},
   "source": [
    "### Chapter 5 Exercise"
   ]
  },
  {
   "cell_type": "markdown",
   "id": "ecd1628e",
   "metadata": {},
   "source": [
    "5.15 Identify hypotheses, <br>\n",
    "Part I. Write the null and alternative hypotheses in words and then symbols for\n",
    "each of the following situations.<br>\n",
    "- A tutoring company would like to understand if most students tend to improve their grades (or not)\n",
    "after they use their services. They sample 200 of the students who used their service in the past year\n",
    "and ask them if their grades have improved or declined from the previous year.\n",
    "- Employers at a firm are worried about the effect of March Madness, a basketball championship held each\n",
    "spring in the US, on employee productivity. They estimate that on a regular business day employees\n",
    "spend on average 15 minutes of company time checking personal email, making personal phone calls,\n",
    "etc. They also collect data on how much company time employees spend on such non-business activities\n",
    "during March Madness. They want to determine if these data provide convincing evidence that employee\n",
    "productivity changed during March Madness."
   ]
  },
  {
   "cell_type": "markdown",
   "id": "937500ec",
   "metadata": {},
   "source": [
    "5.15 Solution"
   ]
  },
  {
   "cell_type": "markdown",
   "id": "0428fb6e",
   "metadata": {},
   "source": [
    "It seems this problem doesn't require code, and March Madness, interesting.<br>\n",
    "For the first question:<br>\n",
    "Word version of null hypothesis and alternative hypothesis<br>\n",
    "$H_{0}$: People would not improve their grades after they use their services<br>\n",
    "$H_{A}$: People tend to improve their grades after they use their services<br>\n",
    "Symbol version of it, suppose $s_{this year}$ as score for this year, $s_{pre year}$ as score for previous year<br>\n",
    "$H_{0}$: $s_{this year} \\le s_{pre year}$<br>\n",
    "$H_{A}$: $s_{this year} > s_{pre year}$<br>\n",
    "The company's target is to know if the score is improved, so if they can reject the null hypothesis, they would have x% of confidence to conclude that it is improved.<br>\n",
    "\n",
    "For the second question, suppose non-March Madness non business time is $t$ mins:<br>\n",
    "$H_{0}$: People spend the same time on non business activity in March Madness as the rest Months<br>\n",
    "$H_{A}$: People spend different time on non business activity in March Madness comparing with the rest Months<br><br>\n",
    "\n",
    "$H_{0}$: $t = 15$<br>\n",
    "$H_{A}$: $t \\neq 15$<br>\n",
    "So if they can reject $H_{0}$, there is probably an impact on time spent on non-business activity in March Madness. - 2022/1/27"
   ]
  }
 ],
 "metadata": {
  "kernelspec": {
   "display_name": "R",
   "language": "R",
   "name": "ir"
  },
  "language_info": {
   "codemirror_mode": "r",
   "file_extension": ".r",
   "mimetype": "text/x-r-source",
   "name": "R",
   "pygments_lexer": "r",
   "version": "3.6.1"
  }
 },
 "nbformat": 4,
 "nbformat_minor": 5
}
