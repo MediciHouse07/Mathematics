{
 "cells": [
  {
   "cell_type": "markdown",
   "id": "c0fa1c20",
   "metadata": {
    "papermill": {
     "duration": 0.009278,
     "end_time": "2021-12-26T04:02:08.118780",
     "exception": false,
     "start_time": "2021-12-26T04:02:08.109502",
     "status": "completed"
    },
    "tags": []
   },
   "source": [
    "In this notebook I would like to replicate some of the mathematic notion in Python, as a test to myself<br>\n",
    "Because I really love math, I don't want to be away from it."
   ]
  },
  {
   "cell_type": "markdown",
   "id": "62525cc5",
   "metadata": {
    "papermill": {
     "duration": 0.007797,
     "end_time": "2021-12-26T04:02:08.135364",
     "exception": false,
     "start_time": "2021-12-26T04:02:08.127567",
     "status": "completed"
    },
    "tags": []
   },
   "source": [
    "# Linearization\n",
    "This is a way to handle complex function, instead of finding the solution of the complex function, we can find an estimate result of it.<br>\n",
    "Suppose we had a funcion f(x)=sqrt(x).And the x assigned to it is 11, it is hard to find the solution by human brain<br>\n",
    "Then we can use linearization method to get the answer.We can easily know the answer of sqrt(9), "
   ]
  },
  {
   "cell_type": "code",
   "execution_count": 1,
   "id": "effe733d",
   "metadata": {
    "execution": {
     "iopub.execute_input": "2021-12-26T04:02:08.155923Z",
     "iopub.status.busy": "2021-12-26T04:02:08.154832Z",
     "iopub.status.idle": "2021-12-26T04:02:08.167449Z",
     "shell.execute_reply": "2021-12-26T04:02:08.167958Z"
    },
    "papermill": {
     "duration": 0.024706,
     "end_time": "2021-12-26T04:02:08.168228",
     "exception": false,
     "start_time": "2021-12-26T04:02:08.143522",
     "status": "completed"
    },
    "tags": []
   },
   "outputs": [
    {
     "data": {
      "text/plain": [
       "3.0"
      ]
     },
     "execution_count": 1,
     "metadata": {},
     "output_type": "execute_result"
    }
   ],
   "source": [
    "import numpy as np\n",
    "np.sqrt(9)"
   ]
  },
  {
   "cell_type": "markdown",
   "id": "1d48fed5",
   "metadata": {
    "papermill": {
     "duration": 0.009713,
     "end_time": "2021-12-26T04:02:08.186901",
     "exception": false,
     "start_time": "2021-12-26T04:02:08.177188",
     "status": "completed"
    },
    "tags": []
   },
   "source": [
    "Because this function is continuous, so the f(11) should not be too far from f(9), so the answer is probably 3 plus/minus some number<br>\n",
    "By the definition of linearization, f(x) is roughly equal to L(x)=f(a)+f'(a)(x-a), and it is easy to know that f'(x)=(1/2) times(1/sqrt(x))<br>\n",
    "Let's calculate what is f'(9)"
   ]
  },
  {
   "cell_type": "code",
   "execution_count": 2,
   "id": "f73bdd15",
   "metadata": {
    "execution": {
     "iopub.execute_input": "2021-12-26T04:02:08.215548Z",
     "iopub.status.busy": "2021-12-26T04:02:08.214594Z",
     "iopub.status.idle": "2021-12-26T04:02:08.218094Z",
     "shell.execute_reply": "2021-12-26T04:02:08.218622Z"
    },
    "papermill": {
     "duration": 0.021358,
     "end_time": "2021-12-26T04:02:08.218796",
     "exception": false,
     "start_time": "2021-12-26T04:02:08.197438",
     "status": "completed"
    },
    "tags": []
   },
   "outputs": [
    {
     "data": {
      "text/plain": [
       "0.16666666666666666"
      ]
     },
     "execution_count": 2,
     "metadata": {},
     "output_type": "execute_result"
    }
   ],
   "source": [
    "frac = (1/2)*(1/np.sqrt(9))\n",
    "frac"
   ]
  },
  {
   "cell_type": "markdown",
   "id": "8f4d26ec",
   "metadata": {
    "papermill": {
     "duration": 0.0125,
     "end_time": "2021-12-26T04:02:08.242303",
     "exception": false,
     "start_time": "2021-12-26T04:02:08.229803",
     "status": "completed"
    },
    "tags": []
   },
   "source": [
    "So, by definition we know that L(11)=f(9)+f'(9)(11-9)"
   ]
  },
  {
   "cell_type": "code",
   "execution_count": 3,
   "id": "da01c881",
   "metadata": {
    "execution": {
     "iopub.execute_input": "2021-12-26T04:02:08.273147Z",
     "iopub.status.busy": "2021-12-26T04:02:08.272322Z",
     "iopub.status.idle": "2021-12-26T04:02:08.275589Z",
     "shell.execute_reply": "2021-12-26T04:02:08.276304Z"
    },
    "papermill": {
     "duration": 0.022194,
     "end_time": "2021-12-26T04:02:08.276506",
     "exception": false,
     "start_time": "2021-12-26T04:02:08.254312",
     "status": "completed"
    },
    "tags": []
   },
   "outputs": [
    {
     "data": {
      "text/plain": [
       "3.3333333333333335"
      ]
     },
     "execution_count": 3,
     "metadata": {},
     "output_type": "execute_result"
    }
   ],
   "source": [
    "L_11 = 3 + frac*2\n",
    "L_11"
   ]
  },
  {
   "cell_type": "markdown",
   "id": "5d2f063f",
   "metadata": {
    "papermill": {
     "duration": 0.009953,
     "end_time": "2021-12-26T04:02:08.301410",
     "exception": false,
     "start_time": "2021-12-26T04:02:08.291457",
     "status": "completed"
    },
    "tags": []
   },
   "source": [
    "3.3333... is the estimate answer we got thourgh linearization,it is an specific result estimated on point x=9<br>\n",
    "Let's verify if the real result is close with it."
   ]
  },
  {
   "cell_type": "code",
   "execution_count": 4,
   "id": "5c5362c9",
   "metadata": {
    "execution": {
     "iopub.execute_input": "2021-12-26T04:02:08.324128Z",
     "iopub.status.busy": "2021-12-26T04:02:08.323235Z",
     "iopub.status.idle": "2021-12-26T04:02:08.328525Z",
     "shell.execute_reply": "2021-12-26T04:02:08.329096Z"
    },
    "papermill": {
     "duration": 0.018341,
     "end_time": "2021-12-26T04:02:08.329249",
     "exception": false,
     "start_time": "2021-12-26T04:02:08.310908",
     "status": "completed"
    },
    "tags": []
   },
   "outputs": [
    {
     "data": {
      "text/plain": [
       "3.3166247903554"
      ]
     },
     "execution_count": 4,
     "metadata": {},
     "output_type": "execute_result"
    }
   ],
   "source": [
    "np.sqrt(11)"
   ]
  },
  {
   "cell_type": "markdown",
   "id": "408c338b",
   "metadata": {
    "papermill": {
     "duration": 0.009576,
     "end_time": "2021-12-26T04:02:08.348658",
     "exception": false,
     "start_time": "2021-12-26T04:02:08.339082",
     "status": "completed"
    },
    "tags": []
   },
   "source": [
    "OK, there is a gap of course, but anyway, this is how it works"
   ]
  },
  {
   "cell_type": "markdown",
   "id": "74bcc1dc",
   "metadata": {
    "papermill": {
     "duration": 0.009584,
     "end_time": "2021-12-26T04:02:08.368159",
     "exception": false,
     "start_time": "2021-12-26T04:02:08.358575",
     "status": "completed"
    },
    "tags": []
   },
   "source": [
    "# Newton's method\n",
    "First, let me build a function for me to perform the newton's method"
   ]
  },
  {
   "cell_type": "code",
   "execution_count": 5,
   "id": "54d54628",
   "metadata": {
    "execution": {
     "iopub.execute_input": "2021-12-26T04:02:08.391990Z",
     "iopub.status.busy": "2021-12-26T04:02:08.391087Z",
     "iopub.status.idle": "2021-12-26T04:02:09.392673Z",
     "shell.execute_reply": "2021-12-26T04:02:09.392155Z"
    },
    "papermill": {
     "duration": 1.014636,
     "end_time": "2021-12-26T04:02:09.392821",
     "exception": false,
     "start_time": "2021-12-26T04:02:08.378185",
     "status": "completed"
    },
    "tags": []
   },
   "outputs": [
    {
     "data": {
      "text/html": [
       "<div>\n",
       "<style scoped>\n",
       "    .dataframe tbody tr th:only-of-type {\n",
       "        vertical-align: middle;\n",
       "    }\n",
       "\n",
       "    .dataframe tbody tr th {\n",
       "        vertical-align: top;\n",
       "    }\n",
       "\n",
       "    .dataframe thead th {\n",
       "        text-align: right;\n",
       "    }\n",
       "</style>\n",
       "<table border=\"1\" class=\"dataframe\">\n",
       "  <thead>\n",
       "    <tr style=\"text-align: right;\">\n",
       "      <th></th>\n",
       "      <th>x</th>\n",
       "      <th>y</th>\n",
       "    </tr>\n",
       "  </thead>\n",
       "  <tbody>\n",
       "    <tr>\n",
       "      <th>0</th>\n",
       "      <td>0</td>\n",
       "      <td>-10</td>\n",
       "    </tr>\n",
       "    <tr>\n",
       "      <th>1</th>\n",
       "      <td>1</td>\n",
       "      <td>-9</td>\n",
       "    </tr>\n",
       "    <tr>\n",
       "      <th>2</th>\n",
       "      <td>2</td>\n",
       "      <td>-6</td>\n",
       "    </tr>\n",
       "    <tr>\n",
       "      <th>3</th>\n",
       "      <td>3</td>\n",
       "      <td>-1</td>\n",
       "    </tr>\n",
       "    <tr>\n",
       "      <th>4</th>\n",
       "      <td>4</td>\n",
       "      <td>6</td>\n",
       "    </tr>\n",
       "    <tr>\n",
       "      <th>...</th>\n",
       "      <td>...</td>\n",
       "      <td>...</td>\n",
       "    </tr>\n",
       "    <tr>\n",
       "      <th>95</th>\n",
       "      <td>95</td>\n",
       "      <td>9015</td>\n",
       "    </tr>\n",
       "    <tr>\n",
       "      <th>96</th>\n",
       "      <td>96</td>\n",
       "      <td>9206</td>\n",
       "    </tr>\n",
       "    <tr>\n",
       "      <th>97</th>\n",
       "      <td>97</td>\n",
       "      <td>9399</td>\n",
       "    </tr>\n",
       "    <tr>\n",
       "      <th>98</th>\n",
       "      <td>98</td>\n",
       "      <td>9594</td>\n",
       "    </tr>\n",
       "    <tr>\n",
       "      <th>99</th>\n",
       "      <td>99</td>\n",
       "      <td>9791</td>\n",
       "    </tr>\n",
       "  </tbody>\n",
       "</table>\n",
       "<p>100 rows × 2 columns</p>\n",
       "</div>"
      ],
      "text/plain": [
       "     x     y\n",
       "0    0   -10\n",
       "1    1    -9\n",
       "2    2    -6\n",
       "3    3    -1\n",
       "4    4     6\n",
       "..  ..   ...\n",
       "95  95  9015\n",
       "96  96  9206\n",
       "97  97  9399\n",
       "98  98  9594\n",
       "99  99  9791\n",
       "\n",
       "[100 rows x 2 columns]"
      ]
     },
     "execution_count": 5,
     "metadata": {},
     "output_type": "execute_result"
    }
   ],
   "source": [
    "import numpy as np\n",
    "import seaborn as sns\n",
    "import pandas as pd\n",
    "\n",
    "x = list(range(100))\n",
    "y = []\n",
    "for i in x:\n",
    "    temp = (i**2) - 10\n",
    "    y.append(temp)\n",
    "\n",
    "function = {'x':x,'y':y}\n",
    "function = pd.DataFrame(function)\n",
    "function"
   ]
  },
  {
   "cell_type": "code",
   "execution_count": 6,
   "id": "cbac2765",
   "metadata": {
    "execution": {
     "iopub.execute_input": "2021-12-26T04:02:09.424560Z",
     "iopub.status.busy": "2021-12-26T04:02:09.419110Z",
     "iopub.status.idle": "2021-12-26T04:02:09.677909Z",
     "shell.execute_reply": "2021-12-26T04:02:09.677386Z"
    },
    "papermill": {
     "duration": 0.274268,
     "end_time": "2021-12-26T04:02:09.678050",
     "exception": false,
     "start_time": "2021-12-26T04:02:09.403782",
     "status": "completed"
    },
    "tags": []
   },
   "outputs": [
    {
     "data": {
      "text/plain": [
       "<AxesSubplot:xlabel='x', ylabel='y'>"
      ]
     },
     "execution_count": 6,
     "metadata": {},
     "output_type": "execute_result"
    },
    {
     "data": {
      "image/png": "[encoded data removed]",
      "text/plain": [
       "<Figure size 432x288 with 1 Axes>"
      ]
     },
     "metadata": {
      "needs_background": "light"
     },
     "output_type": "display_data"
    }
   ],
   "source": [
    "sns.lineplot(x='x',y='y',data=function)"
   ]
  }
 ],
 "metadata": {
  "kernelspec": {
   "display_name": "Python 3",
   "language": "python",
   "name": "python3"
  },
  "language_info": {
   "codemirror_mode": {
    "name": "ipython",
    "version": 3
   },
   "file_extension": ".py",
   "mimetype": "text/x-python",
   "name": "python",
   "nbconvert_exporter": "python",
   "pygments_lexer": "ipython3",
   "version": "3.7.12"
  },
  "papermill": {
   "default_parameters": {},
   "duration": 11.67396,
   "end_time": "2021-12-26T04:02:10.399240",
   "environment_variables": {},
   "exception": null,
   "input_path": "__notebook__.ipynb",
   "output_path": "__notebook__.ipynb",
   "parameters": {},
   "start_time": "2021-12-26T04:01:58.725280",
   "version": "2.3.3"
  }
 },
 "nbformat": 4,
 "nbformat_minor": 5
}
